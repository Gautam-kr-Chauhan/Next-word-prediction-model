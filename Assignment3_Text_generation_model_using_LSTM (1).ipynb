{
  "cells": [
    {
      "cell_type": "code",
      "execution_count": null,
      "metadata": {
        "colab": {
          "background_save": true
        },
        "id": "wFLnKAg64Ks4"
      },
      "outputs": [],
      "source": [
        "# keras module for building LSTM\n",
        "from keras.preprocessing.sequence import pad_sequences\n",
        "from keras.layers import Embedding, LSTM, Dense, Dropout\n",
        "from keras.preprocessing.text import Tokenizer\n",
        "from keras.callbacks import EarlyStopping\n",
        "from keras.models import Sequential\n",
        "import keras.utils as ku\n",
        "\n",
        "# set seeds for reproducability\n",
        "import tensorflow as tf\n",
        "from numpy.random import seed\n",
        "seed(1)\n",
        "\n",
        "import pandas as pd\n",
        "import numpy as np\n",
        "import string, os\n",
        "\n",
        "import warnings\n",
        "warnings.filterwarnings(\"ignore\")\n",
        "warnings.simplefilter(action='ignore', category=FutureWarning)"
      ]
    },
    {
      "cell_type": "code",
      "execution_count": null,
      "metadata": {
        "colab": {
          "background_save": true
        },
        "id": "2EwI3h0_xPNL"
      },
      "outputs": [],
      "source": [
        "import pandas as pd\n",
        "import numpy as np\n",
        "\n",
        "df = pd.read_csv('/content/drive/MyDrive/summer internship(Gen Ai)/assignment 3/ArticlesApril2017.csv')\n",
        "df.head()\n"
      ]
    },
    {
      "cell_type": "code",
      "execution_count": null,
      "metadata": {
        "colab": {
          "background_save": true
        },
        "id": "Nidp9N28xnSN"
      },
      "outputs": [],
      "source": [
        "curr_dir = '/content/drive/MyDrive/summer internship(Gen Ai)/assignment 3/'\n",
        "all_headlines = []\n",
        "for filename in os.listdir(curr_dir):\n",
        "    if 'Articles' in filename:\n",
        "        article_df = pd.read_csv(curr_dir + filename)\n",
        "        all_headlines.extend(list(article_df.headline.values))\n",
        "        break\n",
        "\n",
        "all_headlines = [h for h in all_headlines if h != \"Unknown\"]\n",
        "len(all_headlines)"
      ]
    },
    {
      "cell_type": "code",
      "execution_count": null,
      "metadata": {
        "colab": {
          "background_save": true
        },
        "id": "d-zTa9kq4JJ6"
      },
      "outputs": [],
      "source": [
        "print(all_headlines[:5])"
      ]
    },
    {
      "cell_type": "code",
      "execution_count": null,
      "metadata": {
        "colab": {
          "background_save": true
        },
        "id": "A0gg0yyB7ZZZ"
      },
      "outputs": [],
      "source": [
        "def clean_text(txt):\n",
        "    txt = \"\".join(v for v in txt if v not in string.punctuation).lower()\n",
        "    txt = txt.encode(\"utf8\").decode(\"ascii\",'ignore')\n",
        "    return txt\n",
        "\n",
        "corpus = [clean_text(x) for x in all_headlines]\n",
        "corpus[:10]"
      ]
    },
    {
      "cell_type": "code",
      "execution_count": null,
      "metadata": {
        "colab": {
          "background_save": true
        },
        "id": "Ntva2BiV82h8"
      },
      "outputs": [],
      "source": [
        "tokenizer = Tokenizer()\n",
        "tokenizer.fit_on_texts(corpus)"
      ]
    },
    {
      "cell_type": "code",
      "execution_count": null,
      "metadata": {
        "colab": {
          "background_save": true
        },
        "collapsed": true,
        "id": "jNfb0NBXDp2F"
      },
      "outputs": [],
      "source": [
        "tokenizer.word_index"
      ]
    },
    {
      "cell_type": "code",
      "execution_count": null,
      "metadata": {
        "colab": {
          "background_save": true
        },
        "id": "YMKCHCdzDucq"
      },
      "outputs": [],
      "source": [
        "len(tokenizer.word_index)"
      ]
    },
    {
      "cell_type": "code",
      "execution_count": null,
      "metadata": {
        "colab": {
          "background_save": true
        },
        "id": "YxpcD7xaEOYw"
      },
      "outputs": [],
      "source": [
        "for sentence in corpus[:10]:\n",
        "    print(sentence,\"\\n\",tokenizer.texts_to_sequences([sentence])[0])"
      ]
    },
    {
      "cell_type": "code",
      "execution_count": null,
      "metadata": {
        "colab": {
          "background_save": true
        },
        "id": "8s4P8GPiFD7Z"
      },
      "outputs": [],
      "source": [
        "x_train =[]\n",
        "label=[]\n",
        "for sentence in corpus:\n",
        "    toknized_sentence=tokenizer.texts_to_sequences([sentence])[0]\n",
        "    for i in range(1,len(toknized_sentence)):\n",
        "        n_gram_sequence=toknized_sentence[:i+1]\n",
        "        x_train.append(n_gram_sequence)\n",
        "        label.append(toknized_sentence[i])"
      ]
    },
    {
      "cell_type": "code",
      "execution_count": null,
      "metadata": {
        "colab": {
          "background_save": true
        },
        "id": "ItCvb5uXoX_B"
      },
      "outputs": [],
      "source": [
        "x_train[:10]"
      ]
    },
    {
      "cell_type": "code",
      "execution_count": null,
      "metadata": {
        "colab": {
          "background_save": true
        },
        "id": "smNBhZeEod1M"
      },
      "outputs": [],
      "source": [
        "label[:10]"
      ]
    },
    {
      "cell_type": "code",
      "execution_count": null,
      "metadata": {
        "colab": {
          "background_save": true
        },
        "id": "pPPydCd_HiN1"
      },
      "outputs": [],
      "source": [
        "for i,j in zip(x_train[:50],label[:50]):\n",
        "    print(i,j)"
      ]
    },
    {
      "cell_type": "code",
      "execution_count": null,
      "metadata": {
        "colab": {
          "background_save": true
        },
        "id": "JfrPUTjErAI_"
      },
      "outputs": [],
      "source": [
        "maxlen=max([len(i) for i in x_train])\n",
        "# pad_sequences(x_train,maxlen=maxlen,padding='pre')\n",
        "x_train=pad_sequences(x_train,maxlen=10,padding='pre')\n",
        "label=np.array(label)\n",
        "print(x_train)\n",
        "print(label)"
      ]
    },
    {
      "cell_type": "code",
      "execution_count": null,
      "metadata": {
        "colab": {
          "background_save": true
        },
        "id": "9IlnonSVIDz-"
      },
      "outputs": [],
      "source": [
        "model = Sequential()\n",
        "model.add(Embedding(input_dim=len(tokenizer.word_index)+1,output_dim=100,input_length=max([len(i) for i in x_train])))\n",
        "model.add(LSTM(128))\n",
        "model.add(Dropout(0.2))\n",
        "model.add(Dense(len(tokenizer.word_index)+1,activation='softmax'))\n",
        "model.compile(loss='sparse_categorical_crossentropy',optimizer='adam',metrics=['accuracy'])\n",
        "model.summary()"
      ]
    },
    {
      "cell_type": "code",
      "execution_count": null,
      "metadata": {
        "colab": {
          "background_save": true
        },
        "id": "zg9WlGK3q0R5"
      },
      "outputs": [],
      "source": []
    },
    {
      "cell_type": "code",
      "execution_count": null,
      "metadata": {
        "colab": {
          "background_save": true,
          "base_uri": "https://localhost:8080/"
        },
        "id": "XyoG4WNojIQG",
        "outputId": "554c8138-429b-4ccc-f583-f6ffe7695d8d"
      },
      "outputs": [
        {
          "name": "stdout",
          "output_type": "stream",
          "text": [
            "Epoch 1/30\n",
            "151/151 [==============================] - 6s 43ms/step - loss: 3.8552 - accuracy: 0.2640\n",
            "Epoch 2/30\n",
            "151/151 [==============================] - 4s 27ms/step - loss: 3.6913 - accuracy: 0.3007\n",
            "Epoch 3/30\n",
            "151/151 [==============================] - 4s 27ms/step - loss: 3.5442 - accuracy: 0.3325\n",
            "Epoch 4/30\n",
            "151/151 [==============================] - 7s 43ms/step - loss: 3.3874 - accuracy: 0.3606\n",
            "Epoch 5/30\n",
            "151/151 [==============================] - 4s 27ms/step - loss: 3.2327 - accuracy: 0.3951\n",
            "Epoch 6/30\n",
            "151/151 [==============================] - 4s 28ms/step - loss: 3.0867 - accuracy: 0.4263\n",
            "Epoch 7/30\n",
            "151/151 [==============================] - 6s 43ms/step - loss: 2.9412 - accuracy: 0.4551\n",
            "Epoch 8/30\n",
            "151/151 [==============================] - 4s 27ms/step - loss: 2.8029 - accuracy: 0.4873\n",
            "Epoch 9/30\n",
            "151/151 [==============================] - 4s 27ms/step - loss: 2.6668 - accuracy: 0.5162\n",
            "Epoch 10/30\n",
            "151/151 [==============================] - 6s 40ms/step - loss: 2.5255 - accuracy: 0.5485\n",
            "Epoch 11/30\n",
            "151/151 [==============================] - 6s 41ms/step - loss: 2.4014 - accuracy: 0.5643\n",
            "Epoch 12/30\n",
            "151/151 [==============================] - 5s 32ms/step - loss: 2.2710 - accuracy: 0.5978\n",
            "Epoch 13/30\n",
            "151/151 [==============================] - 6s 42ms/step - loss: 2.1561 - accuracy: 0.6155\n",
            "Epoch 14/30\n",
            "151/151 [==============================] - 4s 27ms/step - loss: 2.0390 - accuracy: 0.6490\n",
            "Epoch 15/30\n",
            "151/151 [==============================] - 4s 28ms/step - loss: 1.9301 - accuracy: 0.6623\n",
            "Epoch 16/30\n",
            "151/151 [==============================] - 6s 43ms/step - loss: 1.8361 - accuracy: 0.6798\n",
            "Epoch 17/30\n",
            "151/151 [==============================] - 4s 27ms/step - loss: 1.7433 - accuracy: 0.7043\n",
            "Epoch 18/30\n",
            "151/151 [==============================] - 4s 27ms/step - loss: 1.6401 - accuracy: 0.7235\n",
            "Epoch 19/30\n",
            "151/151 [==============================] - 6s 42ms/step - loss: 1.5536 - accuracy: 0.7366\n",
            "Epoch 20/30\n",
            "151/151 [==============================] - 4s 27ms/step - loss: 1.4726 - accuracy: 0.7495\n",
            "Epoch 21/30\n",
            "151/151 [==============================] - 4s 28ms/step - loss: 1.3906 - accuracy: 0.7640\n",
            "Epoch 22/30\n",
            "151/151 [==============================] - 6s 42ms/step - loss: 1.3252 - accuracy: 0.7695\n",
            "Epoch 23/30\n",
            "151/151 [==============================] - 4s 27ms/step - loss: 1.2581 - accuracy: 0.7859\n",
            "Epoch 24/30\n",
            "151/151 [==============================] - 4s 27ms/step - loss: 1.1827 - accuracy: 0.7971\n",
            "Epoch 25/30\n",
            "151/151 [==============================] - 6s 43ms/step - loss: 1.1394 - accuracy: 0.8030\n",
            "Epoch 26/30\n",
            "151/151 [==============================] - 4s 27ms/step - loss: 1.0787 - accuracy: 0.8134\n",
            "Epoch 27/30\n",
            "151/151 [==============================] - 4s 28ms/step - loss: 1.0276 - accuracy: 0.8246\n",
            "Epoch 28/30\n",
            "151/151 [==============================] - 6s 42ms/step - loss: 0.9753 - accuracy: 0.8342\n",
            "Epoch 29/30\n",
            "151/151 [==============================] - 5s 34ms/step - loss: 0.9252 - accuracy: 0.8329\n",
            "Epoch 30/30\n",
            "151/151 [==============================] - 6s 38ms/step - loss: 0.8890 - accuracy: 0.8454\n"
          ]
        },
        {
          "data": {
            "text/plain": [
              "<keras.src.callbacks.History at 0x7f7210c3ff70>"
            ]
          },
          "execution_count": 37,
          "metadata": {},
          "output_type": "execute_result"
        }
      ],
      "source": [
        "model.fit(x_train,label,epochs=30,verbose=1)"
      ]
    },
    {
      "cell_type": "code",
      "execution_count": null,
      "metadata": {
        "colab": {
          "background_save": true
        },
        "id": "7JgW1g6ms-7b"
      },
      "outputs": [],
      "source": [
        "# def generate_text(seed_text, next_words, model, max_sequence_len):\n",
        "#     for _ in range(next_words):\n",
        "#         token_list = tokenizer.texts_to_sequences([seed_text])[0]\n",
        "#         token_list = pad_sequences([token_list], maxlen=max_sequence_len-1, padding='pre')\n",
        "#         predicted = model.predict(token_list)\n",
        "#         # predictions = np.argmax(model.predict(token_list), axis=-1)\n",
        "#         output_word = \"\"\n",
        "#         for word,index in tokenizer.word_index.items():\n",
        "#             if index == predicted:\n",
        "#                 output_word = word\n",
        "#                 break\n",
        "#         seed_text += \" \"+output_word\n",
        "#     return seed_text.title()\n",
        "def generate_text(seed_text, next_words, model, max_sequence_len):\n",
        "    for _ in range(next_words):\n",
        "        token_list = tokenizer.texts_to_sequences([seed_text])[0]\n",
        "        token_list = pad_sequences([token_list], maxlen=max_sequence_len-1, padding='pre')\n",
        "        predicted = model.predict_classes(token_list, verbose=0)\n",
        "\n",
        "        output_word = \"\"\n",
        "        for word,index in tokenizer.word_index.items():\n",
        "            if index == predicted:\n",
        "                output_word = word\n",
        "                break\n",
        "        seed_text += \" \"+output_word\n",
        "    return seed_text.title()"
      ]
    },
    {
      "cell_type": "code",
      "execution_count": null,
      "metadata": {
        "colab": {
          "background_save": true
        },
        "id": "giM_6BF7tO8t"
      },
      "outputs": [],
      "source": [
        "print(generate_text('view of a' , 4 , model , maxlen))"
      ]
    },
    {
      "cell_type": "code",
      "execution_count": null,
      "metadata": {
        "colab": {
          "background_save": true
        },
        "id": "wlRac7xUtTDj"
      },
      "outputs": [],
      "source": []
    }
  ],
  "metadata": {
    "colab": {
      "provenance": []
    },
    "kernelspec": {
      "display_name": "Python 3",
      "name": "python3"
    },
    "language_info": {
      "name": "python"
    }
  },
  "nbformat": 4,
  "nbformat_minor": 0
}